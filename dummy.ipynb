{
 "cells": [
  {
   "cell_type": "code",
   "execution_count": null,
   "id": "1cd94ffc",
   "metadata": {},
   "outputs": [
    {
     "ename": "NameError",
     "evalue": "name 'pd' is not defined",
     "output_type": "error",
     "traceback": [
      "\u001b[1;31m---------------------------------------------------------------------------\u001b[0m",
      "\u001b[1;31mNameError\u001b[0m                                 Traceback (most recent call last)",
      "Cell \u001b[1;32mIn[1], line 11\u001b[0m\n\u001b[0;32m      1\u001b[0m OHE_COLS \u001b[38;5;241m=\u001b[39m [\n\u001b[0;32m      2\u001b[0m     \u001b[38;5;124m\"\u001b[39m\u001b[38;5;124mrace\u001b[39m\u001b[38;5;124m\"\u001b[39m,\n\u001b[0;32m      3\u001b[0m     \u001b[38;5;124m\"\u001b[39m\u001b[38;5;124mgender\u001b[39m\u001b[38;5;124m\"\u001b[39m,\n\u001b[1;32m   (...)\u001b[0m\n\u001b[0;32m      8\u001b[0m     \u001b[38;5;124m\"\u001b[39m\u001b[38;5;124mA1Cresult\u001b[39m\u001b[38;5;124m\"\u001b[39m\n\u001b[0;32m      9\u001b[0m ]\n\u001b[1;32m---> 11\u001b[0m raw_data \u001b[38;5;241m=\u001b[39m \u001b[43mpd\u001b[49m\u001b[38;5;241m.\u001b[39mget_dummies(raw_data, columns\u001b[38;5;241m=\u001b[39mOHE_COLS, drop_first\u001b[38;5;241m=\u001b[39m\u001b[38;5;28;01mFalse\u001b[39;00m, dtype\u001b[38;5;241m=\u001b[39m\u001b[38;5;28mint\u001b[39m)\n\u001b[0;32m     13\u001b[0m raw_data\u001b[38;5;241m.\u001b[39mhead()\n",
      "\u001b[1;31mNameError\u001b[0m: name 'pd' is not defined"
     ]
    }
   ],
   "source": [
    "import numpy as np\n",
    "import pandas as pd\n",
    "\n",
    "raw_data = pd.read_csv(\"../data/raw/diabetic_data.csv\")\n",
    "\n",
    "missing_value_count = (raw_data == \"?\").sum()\n",
    "\n",
    "missing_value_percentage = ((raw_data == \"?\").sum() / len(raw_data)) * 100\n",
    "\n",
    "missing_value_percentage\n",
    "\n",
    "raw_data = raw_data.drop(columns=[\"weight\", \"payer_code\", \"medical_specialty\"], inplace=False)\n",
    "\n",
    "raw_data.head()\n",
    "\n",
    "DRUG_COLS = [\n",
    "    \"metformin\",\"repaglinide\",\"nateglinide\",\"chlorpropamide\",\"glimepiride\",\n",
    "    \"acetohexamide\",\"glipizide\",\"glyburide\",\"tolbutamide\",\"pioglitazone\",\n",
    "    \"rosiglitazone\",\"acarbose\",\"miglitol\",\"troglitazone\",\"tolazamide\",\n",
    "    \"examide\",\"citoglipton\",\"insulin\",\"glyburide-metformin\",\"glipizide-metformin\",\n",
    "    \"glimepiride-pioglitazone\",\"metformin-rosiglitazone\",\"metformin-pioglitazone\"\n",
    "]\n",
    "\n",
    "drug_summary = raw_data[DRUG_COLS].apply(pd.Series.value_counts).T.fillna(0).astype(int)\n",
    "drug_percentages = drug_summary.div(drug_summary.sum(axis=1), axis=0) * 100\n",
    "  \n",
    "drug_percentages\n",
    "\n",
    "drop_drugs = [\n",
    "    \"nateglinide\",\n",
    "    \"chlorpropamide\",\n",
    "    \"acetohexamide\",\n",
    "    \"tolbutamide\",\n",
    "    \"acarbose\",\n",
    "    \"miglitol\",\n",
    "    \"troglitazone\",\n",
    "    \"tolazamide\",\n",
    "    \"examide\",\n",
    "    \"citoglipton\",\n",
    "    \"glyburide-metformin\",\n",
    "    \"glipizide-metformin\",\n",
    "    \"glimepiride-pioglitazone\",\n",
    "    \"metformin-rosiglitazone\",\n",
    "    \"metformin-pioglitazone\"\n",
    "]\n",
    "\n",
    "raw_data = raw_data.drop(columns=drop_drugs, inplace=False)\n",
    "raw_data.head()\n",
    "\n",
    "patient_nbr_is_unique = raw_data[\"patient_nbr\"].is_unique\n",
    "\n",
    "encounter_id_is_unique = raw_data[\"encounter_id\"].is_unique\n",
    "\n",
    "print(f\"Patient number is unique: {patient_nbr_is_unique}\")\n",
    "print(f\"Encounter id is unique: {encounter_id_is_unique}\")\n",
    "\n",
    "raw_data = raw_data.drop(columns=[\"patient_nbr\", \"encounter_id\"], inplace=False)\n",
    "\n",
    "raw_data.head()\n",
    "\n",
    "OHE_COLS = [\n",
    "    \"race\",\n",
    "    \"gender\",\n",
    "    \"admission_type_id\",\n",
    "    \"discharge_disposition_id\",\n",
    "    \"admission_source_id\",\n",
    "    \"max_glu_serum\",\n",
    "    \"A1Cresult\"\n",
    "]\n",
    "\n",
    "raw_data = pd.get_dummies(raw_data, columns=OHE_COLS, drop_first=False, dtype=int)\n",
    "\n",
    "raw_data.head()"
   ]
  }
 ],
 "metadata": {
  "kernelspec": {
   "display_name": "Python 3",
   "language": "python",
   "name": "python3"
  },
  "language_info": {
   "codemirror_mode": {
    "name": "ipython",
    "version": 3
   },
   "file_extension": ".py",
   "mimetype": "text/x-python",
   "name": "python",
   "nbconvert_exporter": "python",
   "pygments_lexer": "ipython3",
   "version": "3.11.9"
  }
 },
 "nbformat": 4,
 "nbformat_minor": 5
}
