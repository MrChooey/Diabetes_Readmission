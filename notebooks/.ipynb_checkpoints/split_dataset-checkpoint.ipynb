{
 "cells": [
  {
   "cell_type": "code",
   "execution_count": 1,
   "id": "5d9c7718",
   "metadata": {},
   "outputs": [],
   "source": [
    "import pandas as pd\n",
    "from sklearn.model_selection import train_test_split"
   ]
  },
  {
   "cell_type": "code",
   "execution_count": 2,
   "id": "76178fcc",
   "metadata": {},
   "outputs": [
    {
     "name": "stdout",
     "output_type": "stream",
     "text": [
      "Train size: 71219\n",
      "Validation size: 15261\n",
      "Test size: 15262\n"
     ]
    }
   ],
   "source": [
    "df = pd.read_csv(\"../data/processed/processed.csv\")\n",
    "\n",
    "# First split: Train (70%) and Temp (30%)\n",
    "train_df, temp_df = train_test_split(df, test_size=0.30, random_state=42, stratify=df['readmitted'])\n",
    "\n",
    "# Second split: Validation (15%) and Test (15%)\n",
    "valid_df, test_df = train_test_split(temp_df, test_size=0.50, random_state=42, stratify=temp_df['readmitted'])\n",
    "\n",
    "print(f\"Train size: {len(train_df)}\")\n",
    "print(f\"Validation size: {len(valid_df)}\")\n",
    "print(f\"Test size: {len(test_df)}\")"
   ]
  },
  {
   "cell_type": "code",
   "execution_count": 3,
   "id": "de453013",
   "metadata": {},
   "outputs": [],
   "source": [
    "train_df.to_csv(\"../data/processed/training.csv\", index=False)\n",
    "valid_df.to_csv(\"../data/processed/validation.csv\", index=False)\n",
    "test_df.to_csv(\"../data/processed/testing.csv\", index=False)"
   ]
  }
 ],
 "metadata": {
  "kernelspec": {
   "display_name": "Python 3 (ipykernel)",
   "language": "python",
   "name": "python3"
  },
  "language_info": {
   "codemirror_mode": {
    "name": "ipython",
    "version": 3
   },
   "file_extension": ".py",
   "mimetype": "text/x-python",
   "name": "python",
   "nbconvert_exporter": "python",
   "pygments_lexer": "ipython3",
   "version": "3.11.4"
  }
 },
 "nbformat": 4,
 "nbformat_minor": 5
}
