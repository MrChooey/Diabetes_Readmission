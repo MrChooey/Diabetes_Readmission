{
 "cells": [
  {
   "cell_type": "markdown",
   "id": "c4036d13",
   "metadata": {},
   "source": [
    "# Data Preprocessing\n",
    "\n",
    "---"
   ]
  },
  {
   "cell_type": "code",
   "execution_count": null,
   "id": "ab5af5e0",
   "metadata": {},
   "outputs": [
    {
     "ename": "ModuleNotFoundError",
     "evalue": "No module named 'imblearn'",
     "output_type": "error",
     "traceback": [
      "\u001b[1;31m---------------------------------------------------------------------------\u001b[0m",
      "\u001b[1;31mModuleNotFoundError\u001b[0m                       Traceback (most recent call last)",
      "Cell \u001b[1;32mIn[1], line 8\u001b[0m\n\u001b[0;32m      6\u001b[0m \u001b[38;5;28;01mfrom\u001b[39;00m\u001b[38;5;250m \u001b[39m\u001b[38;5;21;01msklearn\u001b[39;00m\u001b[38;5;21;01m.\u001b[39;00m\u001b[38;5;21;01mmodel_selection\u001b[39;00m\u001b[38;5;250m \u001b[39m\u001b[38;5;28;01mimport\u001b[39;00m train_test_split\n\u001b[0;32m      7\u001b[0m \u001b[38;5;28;01mfrom\u001b[39;00m\u001b[38;5;250m \u001b[39m\u001b[38;5;21;01msklearn\u001b[39;00m\u001b[38;5;21;01m.\u001b[39;00m\u001b[38;5;21;01mpreprocessing\u001b[39;00m\u001b[38;5;250m \u001b[39m\u001b[38;5;28;01mimport\u001b[39;00m MinMaxScaler, OneHotEncoder\n\u001b[1;32m----> 8\u001b[0m \u001b[38;5;28;01mfrom\u001b[39;00m\u001b[38;5;250m \u001b[39m\u001b[38;5;21;01mimblearn\u001b[39;00m\u001b[38;5;21;01m.\u001b[39;00m\u001b[38;5;21;01mover_sampling\u001b[39;00m\u001b[38;5;250m \u001b[39m\u001b[38;5;28;01mimport\u001b[39;00m SMOTE\n\u001b[0;32m      9\u001b[0m \u001b[38;5;28;01mimport\u001b[39;00m\u001b[38;5;250m \u001b[39m\u001b[38;5;21;01mmatplotlib\u001b[39;00m\u001b[38;5;21;01m.\u001b[39;00m\u001b[38;5;21;01mpyplot\u001b[39;00m\u001b[38;5;250m \u001b[39m\u001b[38;5;28;01mas\u001b[39;00m\u001b[38;5;250m \u001b[39m\u001b[38;5;21;01mplt\u001b[39;00m\n\u001b[0;32m     10\u001b[0m \u001b[38;5;28;01mimport\u001b[39;00m\u001b[38;5;250m \u001b[39m\u001b[38;5;21;01mseaborn\u001b[39;00m\u001b[38;5;250m \u001b[39m\u001b[38;5;28;01mas\u001b[39;00m\u001b[38;5;250m \u001b[39m\u001b[38;5;21;01msns\u001b[39;00m\n",
      "\u001b[1;31mModuleNotFoundError\u001b[0m: No module named 'imblearn'"
     ]
    }
   ],
   "source": [
    "# 1_data_preprocessing.ipynb\n",
    "\n",
    "# 📌 Step 1: Library Imports\n",
    "import pandas as pd\n",
    "import numpy as np\n",
    "from sklearn.model_selection import train_test_split\n",
    "from sklearn.preprocessing import MinMaxScaler, OneHotEncoder\n",
    "from imblearn.over_sampling import SMOTE\n",
    "import matplotlib.pyplot as plt\n",
    "import seaborn as sns\n",
    "\n",
    "# 📌 Step 2: Load Dataset\n",
    "df = pd.read_csv('../data/raw/diabetic_data.csv')\n",
    "print(\"Initial shape:\", df.shape)\n",
    "\n",
    "# 📌 Step 3: Drop High Missingness Columns\n",
    "drop_cols = ['weight', 'payer_code', 'medical_specialty']\n",
    "df.drop(columns=drop_cols, inplace=True)\n",
    "\n",
    "# 📌 Step 4: Handle Missing Values\n",
    "df = df.dropna(subset=['race', 'gender', 'diag_1', 'diag_2', 'diag_3'])\n",
    "\n",
    "# 📌 Step 5: Encode Categorical Features\n",
    "# Example for gender\n",
    "df['gender'] = df['gender'].map({'Male': 1, 'Female': 0})\n",
    "\n",
    "# One-hot encode nominal categorical features\n",
    "categorical_cols = ['admission_type_id', 'discharge_disposition_id', 'admission_source_id']\n",
    "df = pd.get_dummies(df, columns=categorical_cols, drop_first=True)\n",
    "\n",
    "# 📌 Step 6: Create Custom Features\n",
    "df['service_utilization'] = df['number_outpatient'] + df['number_emergency'] + df['number_inpatient']\n",
    "df['med_change_count'] = df.filter(like='change').apply(lambda row: (row == 'Ch').sum(), axis=1)\n",
    "\n",
    "# 📌 Step 7: Log Transform Skewed Features\n",
    "skewed_cols = ['number_emergency', 'number_inpatient', 'service_utilization']\n",
    "df[skewed_cols] = df[skewed_cols].apply(lambda x: np.log1p(x))\n",
    "\n",
    "# 📌 Step 8: Normalize Numerical Features\n",
    "scaler = MinMaxScaler()\n",
    "num_cols = ['time_in_hospital', 'num_lab_procedures', 'num_medications']\n",
    "df[num_cols] = scaler.fit_transform(df[num_cols])\n",
    "\n",
    "# 📌 Step 9: Split and Apply SMOTE\n",
    "X = df.drop(columns=['readmitted'])\n",
    "y = df['readmitted'].apply(lambda x: 1 if x == '<30' else 0)  # Binary classification\n",
    "\n",
    "X_train, X_test, y_train, y_test = train_test_split(X, y, stratify=y, test_size=0.2, random_state=42)\n",
    "\n",
    "smote = SMOTE(random_state=42)\n",
    "X_train_bal, y_train_bal = smote.fit_resample(X_train, y_train)\n",
    "\n",
    "print(\"Post-SMOTE class distribution:\\n\", pd.Series(y_train_bal).value_counts())\n"
   ]
  }
 ],
 "metadata": {
  "kernelspec": {
   "display_name": "Python 3",
   "language": "python",
   "name": "python3"
  },
  "language_info": {
   "codemirror_mode": {
    "name": "ipython",
    "version": 3
   },
   "file_extension": ".py",
   "mimetype": "text/x-python",
   "name": "python",
   "nbconvert_exporter": "python",
   "pygments_lexer": "ipython3",
   "version": "3.11.9"
  }
 },
 "nbformat": 4,
 "nbformat_minor": 5
}
